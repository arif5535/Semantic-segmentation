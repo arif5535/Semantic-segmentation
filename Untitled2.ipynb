{
  "nbformat": 4,
  "nbformat_minor": 0,
  "metadata": {
    "colab": {
      "provenance": [],
      "gpuType": "T4",
      "mount_file_id": "1YTRCzdpbR8Hg60ddWDnJi8FBJlXQuDp5",
      "authorship_tag": "ABX9TyMtrdwFosMEyt1Yvm8iD2GZ",
      "include_colab_link": true
    },
    "kernelspec": {
      "name": "python3",
      "display_name": "Python 3"
    },
    "language_info": {
      "name": "python"
    },
    "accelerator": "GPU"
  },
  "cells": [
    {
      "cell_type": "markdown",
      "metadata": {
        "id": "view-in-github",
        "colab_type": "text"
      },
      "source": [
        "<a href=\"https://colab.research.google.com/github/arif5535/Semantic-segmentation/blob/main/Untitled2.ipynb\" target=\"_parent\"><img src=\"https://colab.research.google.com/assets/colab-badge.svg\" alt=\"Open In Colab\"/></a>"
      ]
    },
    {
      "cell_type": "code",
      "execution_count": null,
      "metadata": {
        "id": "FHF6CvxdsKO8"
      },
      "outputs": [],
      "source": [
        "!pip install tensorflow==2.8.0\n",
        "!pip install keras==2.8.0\n"
      ]
    },
    {
      "cell_type": "code",
      "source": [
        "import tensorflow as tf\n",
        "from tensorflow import keras"
      ],
      "metadata": {
        "id": "SDjjnfeOuaSj"
      },
      "execution_count": null,
      "outputs": []
    },
    {
      "cell_type": "code",
      "source": [
        "!pip install segmentation-models==1.0.1"
      ],
      "metadata": {
        "id": "uF6plKybuk3g"
      },
      "execution_count": null,
      "outputs": []
    },
    {
      "cell_type": "code",
      "source": [
        "import segmentation_models as sm"
      ],
      "metadata": {
        "id": "pAyJs7h9uqIX"
      },
      "execution_count": null,
      "outputs": []
    },
    {
      "cell_type": "code",
      "source": [
        "!pip install matplotlib"
      ],
      "metadata": {
        "id": "5hS0V9ZAuwuB"
      },
      "execution_count": null,
      "outputs": []
    },
    {
      "cell_type": "code",
      "source": [
        "import glob\n",
        "import cv2\n",
        "import os\n",
        "import numpy as np"
      ],
      "metadata": {
        "id": "dQRkM30du4a8"
      },
      "execution_count": null,
      "outputs": []
    },
    {
      "cell_type": "code",
      "source": [
        "from matplotlib import pyplot as plt"
      ],
      "metadata": {
        "id": "77LPJLspvAHk"
      },
      "execution_count": null,
      "outputs": []
    },
    {
      "cell_type": "code",
      "source": [
        "BACKBONE = 'resnet34'\n",
        "preprocess_input = sm.get_preprocessing(BACKBONE)"
      ],
      "metadata": {
        "id": "yJGUWEg9vHXk"
      },
      "execution_count": null,
      "outputs": []
    },
    {
      "cell_type": "code",
      "source": [
        "#Resizing images is optional, CNNs are ok with large images\n",
        "SIZE_X = 256 #Resize images (height  = X, width = Y)\n",
        "SIZE_Y = 256"
      ],
      "metadata": {
        "id": "ZeaAHVS5vJMv"
      },
      "execution_count": null,
      "outputs": []
    },
    {
      "cell_type": "code",
      "source": [
        "from google.colab import drive\n",
        "\n",
        "drive.mount('/content/gdrive')"
      ],
      "metadata": {
        "colab": {
          "base_uri": "https://localhost:8080/"
        },
        "id": "-okN8u7mvY63",
        "outputId": "8b13d01d-e43c-4b14-852b-d361fe6c56a7"
      },
      "execution_count": null,
      "outputs": [
        {
          "output_type": "stream",
          "name": "stdout",
          "text": [
            "Mounted at /content/gdrive\n"
          ]
        }
      ]
    },
    {
      "cell_type": "code",
      "source": [
        "#Capture training image info as a list\n",
        "train_images = []\n",
        "for directory_path in glob.glob(\"/content/gdrive/MyDrive/Segmentation/Images\"):\n",
        "    for img_path in glob.glob(os.path.join(directory_path, \"*.jpg\")):\n",
        "        #print(img_path)\n",
        "        img = cv2.imread(img_path, cv2.IMREAD_COLOR)\n",
        "        img = cv2.resize(img, (SIZE_Y, SIZE_X))\n",
        "        img = cv2.cvtColor(img, cv2.COLOR_RGB2BGR)\n",
        "        train_images.append(img)\n",
        "        # print(train_images)\n",
        "        #train_labels.append(label)\n",
        "#Convert list to array for machine learning processing\n",
        "train_images = np.array(train_images)"
      ],
      "metadata": {
        "id": "15orzkmvvTMP"
      },
      "execution_count": null,
      "outputs": []
    },
    {
      "cell_type": "code",
      "source": [
        "#Capture mask/label info as a list\n",
        "train_masks = []\n",
        "for directory_path in glob.glob(\"/content/gdrive/MyDrive/Segmentation/Masks\"):\n",
        "    for mask_path in glob.glob(os.path.join(directory_path, \"*.jpg\")):\n",
        "        mask = cv2.imread(mask_path, 0)\n",
        "        mask = cv2.resize(mask, (SIZE_Y, SIZE_X))\n",
        "        mask = cv2.cvtColor(mask, cv2.COLOR_RGB2BGR)\n",
        "        train_masks.append(mask)\n",
        "        #train_labels.append(label)\n",
        "#Convert list to array for machine learning processing\n",
        "train_masks = np.array(train_masks)"
      ],
      "metadata": {
        "id": "2juAkFRJ-Psu"
      },
      "execution_count": null,
      "outputs": []
    },
    {
      "cell_type": "code",
      "source": [
        "#Use customary x_train and y_train variables\n",
        "X = train_images\n",
        "Y = train_masks\n",
        "\n",
        "Y = np.expand_dims(Y, axis=3) #May not be necessary.. leftover from previous code"
      ],
      "metadata": {
        "id": "TwX7BYaa-t0_"
      },
      "execution_count": null,
      "outputs": []
    },
    {
      "cell_type": "code",
      "source": [
        "from sklearn.model_selection import train_test_split\n",
        "x_train, x_val, y_train, y_val = train_test_split(X, Y, test_size=0.2, random_state=42)"
      ],
      "metadata": {
        "id": "SE4P8Pgs-yC3"
      },
      "execution_count": null,
      "outputs": []
    },
    {
      "cell_type": "code",
      "source": [
        "# preprocess input\n",
        "x_train = preprocess_input(x_train)\n",
        "x_val = preprocess_input(x_val)"
      ],
      "metadata": {
        "id": "xWP4DSSg-2PL"
      },
      "execution_count": null,
      "outputs": []
    },
    {
      "cell_type": "code",
      "source": [
        "# define model\n",
        "from segmentation_models import Unet\n",
        "\n",
        "from tensorflow.keras.utils import get_file\n",
        "model = sm.Unet(BACKBONE, encoder_weights='imagenet')\n",
        "model = Unet(BACKBONE, input_shape=(256, 256, 3), classes=2, activation='softmax')\n",
        "model.compile(optimizer='adam', loss='binary_crossentropy', metrics=['mse'])"
      ],
      "metadata": {
        "id": "CgEOM3vU_Dpy"
      },
      "execution_count": null,
      "outputs": []
    }
  ]
}